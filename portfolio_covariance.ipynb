{
 "cells": [
  {
   "cell_type": "markdown",
   "metadata": {},
   "source": [
    "# Portfolio variance\n",
    "This notebook shows how to compute the covariance and correlation matrices of a stock portfolio. Pandas Datareader is used to obtain daily prices over a specified timeframe. The correlation matrix is visualized in a heatmap, using the Seaborn library. Finally, the portfolio variance is computed and compared to that of the S&P 500.\n",
    "\n",
    "Author: W.J.A. van Heeswijk\n",
    "Date: 20-6-2021"
   ]
  },
  {
   "cell_type": "markdown",
   "metadata": {},
   "source": [
    "## Import libraries"
   ]
  },
  {
   "cell_type": "code",
   "execution_count": 1,
   "metadata": {},
   "outputs": [],
   "source": [
    "import datetime\n",
    "import numpy as np\n",
    "import pandas as pd\n",
    "import pandas_datareader as web\n",
    "import matplotlib.pyplot as plt\n",
    "import seaborn as sns"
   ]
  },
  {
   "cell_type": "markdown",
   "metadata": {},
   "source": [
    "## Define functions"
   ]
  },
  {
   "cell_type": "code",
   "execution_count": 2,
   "metadata": {},
   "outputs": [],
   "source": [
    "def read_price_data(stock_symbol, start_date, end_date):\n",
    "    \"\"\"Read daily price data using Pandas Datareader\"\"\"\n",
    "    stock_data = web.DataReader(stock_symbol, \"yahoo\", start_date, end_date) # Read stock data \n",
    "    prices = stock_data.loc[:, \"Adj Close\"] # Store adjusted close prices \n",
    "    prices = prices.fillna(method=\"ffill\") # Forward fill missing data points\n",
    "\n",
    "    return prices"
   ]
  },
  {
   "cell_type": "code",
   "execution_count": 3,
   "metadata": {},
   "outputs": [],
   "source": [
    "def generate_return_series(prices):\n",
    "    \"\"\"Compute daily return series for given price series\"\"\"\n",
    "    returns = np.zeros(len(prices) - 1)\n",
    "    for i in range(len(prices) - 1):\n",
    "        day_return = (prices[i + 1] - prices[i]) / prices[i]\n",
    "        returns[i] = day_return\n",
    "\n",
    "    return returns"
   ]
  },
  {
   "cell_type": "markdown",
   "metadata": {},
   "source": [
    "## Set input"
   ]
  },
  {
   "cell_type": "code",
   "execution_count": 4,
   "metadata": {},
   "outputs": [],
   "source": [
    "\"\"\"Set input\"\"\"\n",
    "start_date = datetime.datetime(2019, 1, 1)\n",
    "end_date = datetime.datetime(2020, 1, 1)\n",
    "symbol_list = [\"AAPL\", \"AMZN\", \"FB\", \"GOOG\", \"MSFT\"] #,\"CAT\", \"NKE\", \"DAL\",\"XOM\"\n",
    "\n",
    "num_stocks= len(symbol_list)\n",
    "stock_weights = {stock_symbol:1/num_stocks for stock_symbol in symbol_list} # Set stock weights\n",
    "\n",
    "price_series_sp500 = read_price_data(\"^GSPC\", start_date, end_date) # Read price data\n",
    "return_series_sp500 = generate_return_series(price_series_sp500) # Compute return data\n",
    "\n",
    "no_business_days = len(return_series_sp500)\n",
    "daily_returns = pd.DataFrame(index=symbol_list, columns=np.arange(no_business_days)) # Initialize DataFrame"
   ]
  },
  {
   "cell_type": "markdown",
   "metadata": {},
   "source": [
    "## Read price data and compute return series"
   ]
  },
  {
   "cell_type": "code",
   "execution_count": 5,
   "metadata": {},
   "outputs": [
    {
     "data": {
      "text/html": [
       "<div>\n",
       "<style scoped>\n",
       "    .dataframe tbody tr th:only-of-type {\n",
       "        vertical-align: middle;\n",
       "    }\n",
       "\n",
       "    .dataframe tbody tr th {\n",
       "        vertical-align: top;\n",
       "    }\n",
       "\n",
       "    .dataframe thead th {\n",
       "        text-align: right;\n",
       "    }\n",
       "</style>\n",
       "<table border=\"1\" class=\"dataframe\">\n",
       "  <thead>\n",
       "    <tr style=\"text-align: right;\">\n",
       "      <th></th>\n",
       "      <th>0</th>\n",
       "      <th>1</th>\n",
       "      <th>2</th>\n",
       "      <th>3</th>\n",
       "      <th>4</th>\n",
       "      <th>5</th>\n",
       "      <th>6</th>\n",
       "      <th>7</th>\n",
       "      <th>8</th>\n",
       "      <th>9</th>\n",
       "      <th>...</th>\n",
       "      <th>241</th>\n",
       "      <th>242</th>\n",
       "      <th>243</th>\n",
       "      <th>244</th>\n",
       "      <th>245</th>\n",
       "      <th>246</th>\n",
       "      <th>247</th>\n",
       "      <th>248</th>\n",
       "      <th>249</th>\n",
       "      <th>250</th>\n",
       "    </tr>\n",
       "  </thead>\n",
       "  <tbody>\n",
       "    <tr>\n",
       "      <th>AAPL</th>\n",
       "      <td>-0.099607</td>\n",
       "      <td>0.042689</td>\n",
       "      <td>-0.002226</td>\n",
       "      <td>0.019063</td>\n",
       "      <td>0.016982</td>\n",
       "      <td>0.003196</td>\n",
       "      <td>-0.009818</td>\n",
       "      <td>-0.015037</td>\n",
       "      <td>0.020467</td>\n",
       "      <td>0.012217</td>\n",
       "      <td>...</td>\n",
       "      <td>0.001965</td>\n",
       "      <td>-0.002390</td>\n",
       "      <td>0.001001</td>\n",
       "      <td>-0.002071</td>\n",
       "      <td>0.016318</td>\n",
       "      <td>0.000951</td>\n",
       "      <td>0.019840</td>\n",
       "      <td>-0.000380</td>\n",
       "      <td>0.005935</td>\n",
       "      <td>0.007307</td>\n",
       "    </tr>\n",
       "    <tr>\n",
       "      <th>AMZN</th>\n",
       "      <td>-0.025242</td>\n",
       "      <td>0.050064</td>\n",
       "      <td>0.034353</td>\n",
       "      <td>0.016612</td>\n",
       "      <td>0.001714</td>\n",
       "      <td>-0.001928</td>\n",
       "      <td>-0.009455</td>\n",
       "      <td>-0.014233</td>\n",
       "      <td>0.035462</td>\n",
       "      <td>0.005506</td>\n",
       "      <td>...</td>\n",
       "      <td>0.012124</td>\n",
       "      <td>-0.003703</td>\n",
       "      <td>0.004624</td>\n",
       "      <td>-0.003225</td>\n",
       "      <td>0.003638</td>\n",
       "      <td>-0.002114</td>\n",
       "      <td>0.044467</td>\n",
       "      <td>0.000551</td>\n",
       "      <td>-0.012253</td>\n",
       "      <td>0.000514</td>\n",
       "    </tr>\n",
       "    <tr>\n",
       "      <th>FB</th>\n",
       "      <td>-0.029039</td>\n",
       "      <td>0.047138</td>\n",
       "      <td>0.000725</td>\n",
       "      <td>0.032452</td>\n",
       "      <td>0.011927</td>\n",
       "      <td>-0.000208</td>\n",
       "      <td>-0.002774</td>\n",
       "      <td>0.011057</td>\n",
       "      <td>0.024486</td>\n",
       "      <td>-0.009466</td>\n",
       "      <td>...</td>\n",
       "      <td>0.002375</td>\n",
       "      <td>0.020717</td>\n",
       "      <td>0.017580</td>\n",
       "      <td>0.001165</td>\n",
       "      <td>-0.000582</td>\n",
       "      <td>-0.005141</td>\n",
       "      <td>0.013017</td>\n",
       "      <td>0.001492</td>\n",
       "      <td>-0.017732</td>\n",
       "      <td>0.004109</td>\n",
       "    </tr>\n",
       "    <tr>\n",
       "      <th>GOOG</th>\n",
       "      <td>-0.028484</td>\n",
       "      <td>0.053786</td>\n",
       "      <td>-0.002167</td>\n",
       "      <td>0.007385</td>\n",
       "      <td>-0.001505</td>\n",
       "      <td>-0.004029</td>\n",
       "      <td>-0.012277</td>\n",
       "      <td>-0.011824</td>\n",
       "      <td>0.031071</td>\n",
       "      <td>0.003546</td>\n",
       "      <td>...</td>\n",
       "      <td>-0.004445</td>\n",
       "      <td>-0.001845</td>\n",
       "      <td>0.002528</td>\n",
       "      <td>-0.004757</td>\n",
       "      <td>-0.000556</td>\n",
       "      <td>-0.003914</td>\n",
       "      <td>0.012534</td>\n",
       "      <td>-0.006256</td>\n",
       "      <td>-0.011650</td>\n",
       "      <td>0.000659</td>\n",
       "    </tr>\n",
       "    <tr>\n",
       "      <th>MSFT</th>\n",
       "      <td>-0.036788</td>\n",
       "      <td>0.046509</td>\n",
       "      <td>0.001275</td>\n",
       "      <td>0.007251</td>\n",
       "      <td>0.014299</td>\n",
       "      <td>-0.006425</td>\n",
       "      <td>-0.007722</td>\n",
       "      <td>-0.007296</td>\n",
       "      <td>0.029005</td>\n",
       "      <td>0.003523</td>\n",
       "      <td>...</td>\n",
       "      <td>-0.005401</td>\n",
       "      <td>-0.002069</td>\n",
       "      <td>0.008681</td>\n",
       "      <td>0.010918</td>\n",
       "      <td>0.000000</td>\n",
       "      <td>-0.000191</td>\n",
       "      <td>0.008197</td>\n",
       "      <td>0.001828</td>\n",
       "      <td>-0.008618</td>\n",
       "      <td>0.000698</td>\n",
       "    </tr>\n",
       "  </tbody>\n",
       "</table>\n",
       "<p>5 rows × 251 columns</p>\n",
       "</div>"
      ],
      "text/plain": [
       "           0         1         2         3         4         5         6    \\\n",
       "AAPL -0.099607  0.042689 -0.002226  0.019063  0.016982  0.003196 -0.009818   \n",
       "AMZN -0.025242  0.050064  0.034353  0.016612  0.001714 -0.001928 -0.009455   \n",
       "FB   -0.029039  0.047138  0.000725  0.032452  0.011927 -0.000208 -0.002774   \n",
       "GOOG -0.028484  0.053786 -0.002167  0.007385 -0.001505 -0.004029 -0.012277   \n",
       "MSFT -0.036788  0.046509  0.001275  0.007251  0.014299 -0.006425 -0.007722   \n",
       "\n",
       "           7         8         9    ...       241       242       243  \\\n",
       "AAPL -0.015037  0.020467  0.012217  ...  0.001965 -0.002390  0.001001   \n",
       "AMZN -0.014233  0.035462  0.005506  ...  0.012124 -0.003703  0.004624   \n",
       "FB    0.011057  0.024486 -0.009466  ...  0.002375  0.020717  0.017580   \n",
       "GOOG -0.011824  0.031071  0.003546  ... -0.004445 -0.001845  0.002528   \n",
       "MSFT -0.007296  0.029005  0.003523  ... -0.005401 -0.002069  0.008681   \n",
       "\n",
       "           244       245       246       247       248       249       250  \n",
       "AAPL -0.002071  0.016318  0.000951  0.019840 -0.000380  0.005935  0.007307  \n",
       "AMZN -0.003225  0.003638 -0.002114  0.044467  0.000551 -0.012253  0.000514  \n",
       "FB    0.001165 -0.000582 -0.005141  0.013017  0.001492 -0.017732  0.004109  \n",
       "GOOG -0.004757 -0.000556 -0.003914  0.012534 -0.006256 -0.011650  0.000659  \n",
       "MSFT  0.010918  0.000000 -0.000191  0.008197  0.001828 -0.008618  0.000698  \n",
       "\n",
       "[5 rows x 251 columns]"
      ]
     },
     "execution_count": 5,
     "metadata": {},
     "output_type": "execute_result"
    }
   ],
   "source": [
    "\"\"\"Read price data and compute daily returns\"\"\"\n",
    "for stock_symbol in symbol_list:   \n",
    "    price_series = read_price_data(stock_symbol, start_date, end_date) # Read price data\n",
    "    return_series = generate_return_series(price_series) # Compute return data\n",
    "    daily_returns.loc[stock_symbol] = return_series # Store return series in DataFrame\n",
    "        \n",
    "daily_returns.head()"
   ]
  },
  {
   "cell_type": "markdown",
   "metadata": {},
   "source": [
    "## Compute covariance and correlation matrices"
   ]
  },
  {
   "cell_type": "code",
   "execution_count": 6,
   "metadata": {},
   "outputs": [
    {
     "data": {
      "text/html": [
       "<div>\n",
       "<style scoped>\n",
       "    .dataframe tbody tr th:only-of-type {\n",
       "        vertical-align: middle;\n",
       "    }\n",
       "\n",
       "    .dataframe tbody tr th {\n",
       "        vertical-align: top;\n",
       "    }\n",
       "\n",
       "    .dataframe thead th {\n",
       "        text-align: right;\n",
       "    }\n",
       "</style>\n",
       "<table border=\"1\" class=\"dataframe\">\n",
       "  <thead>\n",
       "    <tr style=\"text-align: right;\">\n",
       "      <th></th>\n",
       "      <th>AAPL</th>\n",
       "      <th>AMZN</th>\n",
       "      <th>FB</th>\n",
       "      <th>GOOG</th>\n",
       "      <th>MSFT</th>\n",
       "    </tr>\n",
       "  </thead>\n",
       "  <tbody>\n",
       "    <tr>\n",
       "      <th>AAPL</th>\n",
       "      <td>1.00000</td>\n",
       "      <td>0.59289</td>\n",
       "      <td>0.47580</td>\n",
       "      <td>0.55834</td>\n",
       "      <td>0.62190</td>\n",
       "    </tr>\n",
       "    <tr>\n",
       "      <th>AMZN</th>\n",
       "      <td>0.59289</td>\n",
       "      <td>1.00000</td>\n",
       "      <td>0.61667</td>\n",
       "      <td>0.60968</td>\n",
       "      <td>0.72312</td>\n",
       "    </tr>\n",
       "    <tr>\n",
       "      <th>FB</th>\n",
       "      <td>0.47580</td>\n",
       "      <td>0.61667</td>\n",
       "      <td>1.00000</td>\n",
       "      <td>0.56514</td>\n",
       "      <td>0.53147</td>\n",
       "    </tr>\n",
       "    <tr>\n",
       "      <th>GOOG</th>\n",
       "      <td>0.55834</td>\n",
       "      <td>0.60968</td>\n",
       "      <td>0.56514</td>\n",
       "      <td>1.00000</td>\n",
       "      <td>0.62918</td>\n",
       "    </tr>\n",
       "    <tr>\n",
       "      <th>MSFT</th>\n",
       "      <td>0.62190</td>\n",
       "      <td>0.72312</td>\n",
       "      <td>0.53147</td>\n",
       "      <td>0.62918</td>\n",
       "      <td>1.00000</td>\n",
       "    </tr>\n",
       "  </tbody>\n",
       "</table>\n",
       "</div>"
      ],
      "text/plain": [
       "         AAPL     AMZN       FB     GOOG     MSFT\n",
       "AAPL  1.00000  0.59289  0.47580  0.55834  0.62190\n",
       "AMZN  0.59289  1.00000  0.61667  0.60968  0.72312\n",
       "FB    0.47580  0.61667  1.00000  0.56514  0.53147\n",
       "GOOG  0.55834  0.60968  0.56514  1.00000  0.62918\n",
       "MSFT  0.62190  0.72312  0.53147  0.62918  1.00000"
      ]
     },
     "execution_count": 6,
     "metadata": {},
     "output_type": "execute_result"
    }
   ],
   "source": [
    "covariance_matrix = pd.DataFrame(index=symbol_list, columns=symbol_list)\n",
    "correlation_matrix = pd.DataFrame(index=symbol_list, columns=symbol_list)\n",
    "\n",
    "\"\"\"Compute all covariances and correlation coefficients\"\"\"\n",
    "for stock1_symbol in symbol_list:\n",
    "    for stock2_symbol in symbol_list:\n",
    "        # Retrieve return series as arrays\n",
    "        stock1_returns = daily_returns.loc[stock1_symbol].values.astype(float)\n",
    "        stock2_returns = daily_returns.loc[stock2_symbol].values.astype(float)\n",
    "\n",
    "        # Compute covariance\n",
    "        cov = np.cov(stock1_returns, stock2_returns)[0][1]\n",
    "\n",
    "        # Add covariance to matrix\n",
    "        covariance_matrix.loc[stock1_symbol, stock2_symbol] = cov\n",
    "\n",
    "        # Compute correlation\n",
    "        corr = np.corrcoef(stock1_returns, stock2_returns)[0][1]\n",
    "\n",
    "        # Add correlation to matrix\n",
    "        correlation_matrix.loc[stock1_symbol, stock2_symbol] = corr\n",
    "\n",
    "# Round correlation coefficients\n",
    "correlation_matrix = correlation_matrix.astype(float).round(5)\n",
    "\n",
    "correlation_matrix"
   ]
  },
  {
   "cell_type": "markdown",
   "metadata": {},
   "source": [
    "## Plot heatmap correlation matrix"
   ]
  },
  {
   "cell_type": "code",
   "execution_count": 7,
   "metadata": {},
   "outputs": [
    {
     "data": {
      "image/png": "[encoded data removed]",
      "text/plain": [
       "<Figure size 432x288 with 2 Axes>"
      ]
     },
     "metadata": {
      "needs_background": "light"
     },
     "output_type": "display_data"
    }
   ],
   "source": [
    "ax = sns.heatmap(correlation_matrix, vmin=-1, vmax=1)"
   ]
  },
  {
   "cell_type": "markdown",
   "metadata": {},
   "source": [
    "## Compute portfolio variance\n",
    "$\\sigma_{P}^2=\\sum_{i=1}^n \\sum_{j=1}^n w_i w_j \\sigma_{i,j}$"
   ]
  },
  {
   "cell_type": "code",
   "execution_count": 14,
   "metadata": {},
   "outputs": [
    {
     "name": "stdout",
     "output_type": "stream",
     "text": [
      "Annualized mean return: 41.86%\n",
      "Annualized portfolio volatility: 19.76%\n"
     ]
    }
   ],
   "source": [
    "portfolio_mean = 0\n",
    "portfolio_variance = 0\n",
    "\n",
    "\"\"\"Compute mean portfolio return\"\"\"\n",
    "for stock_symbol in symbol_list:\n",
    "    \n",
    "    # Retrieve return series as arrays\n",
    "    stock_returns = daily_returns.loc[stock_symbol].values.astype(float)\n",
    "    \n",
    "    weight_stock = stock_weights.get(stock_symbol)\n",
    "\n",
    "    mean_return = stock_returns.mean()\n",
    "    portfolio_mean += mean_return *weight_stock\n",
    "\n",
    "\"\"\"Compute variance portfolio return\"\"\"\n",
    "for stock1_symbol in symbol_list:\n",
    "    for stock2_symbol in symbol_list:\n",
    "        weight_stock1 = stock_weights.get(stock1_symbol)\n",
    "        weight_stock2 = stock_weights.get(stock2_symbol)\n",
    "        covariance= covariance_matrix.loc[stock1_symbol,stock2_symbol]    \n",
    "        portfolio_variance += weight_stock1*weight_stock2*covariance\n",
    "\n",
    "# Compute annualized mean and volatility portfolio\n",
    "ann_portfolio_mean = portfolio_mean*252\n",
    "ann_portfolio_volatility = np.sqrt(252)*np.sqrt(portfolio_variance)\n",
    "\n",
    "print('Annualized mean return:',\"{0:.2%}\".format(ann_portfolio_mean))\n",
    "print('Annualized portfolio volatility:',\"{0:.2%}\".format(ann_portfolio_volatility))"
   ]
  },
  {
   "cell_type": "markdown",
   "metadata": {},
   "source": [
    "## Compute mean and variance of S&P 500"
   ]
  },
  {
   "cell_type": "code",
   "execution_count": 22,
   "metadata": {},
   "outputs": [
    {
     "name": "stdout",
     "output_type": "stream",
     "text": [
      "Annualized SP500 return: 26.14%\n",
      "Annualized SP500 volatility: 12.47%\n"
     ]
    }
   ],
   "source": [
    "# Compute annualized mean and volatility S&P 500\n",
    "ann_sp500_mean = np.mean(return_series_sp500) *252\n",
    "ann_SP500_volatility = np.sqrt(252) * np.std(return_series_sp500)\n",
    "\n",
    "print('Annualized SP500 return:',\"{0:.2%}\".format(ann_sp500_mean))\n",
    "print('Annualized SP500 volatility:',\"{0:.2%}\".format(ann_SP500_volatility))"
   ]
  }
 ],
 "metadata": {
  "kernelspec": {
   "display_name": "Python 3",
   "language": "python",
   "name": "python3"
  },
  "language_info": {
   "codemirror_mode": {
    "name": "ipython",
    "version": 3
   },
   "file_extension": ".py",
   "mimetype": "text/x-python",
   "name": "python",
   "nbconvert_exporter": "python",
   "pygments_lexer": "ipython3",
   "version": "3.8.3"
  }
 },
 "nbformat": 4,
 "nbformat_minor": 4
}
